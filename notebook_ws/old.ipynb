{
 "cells": [
  {
   "cell_type": "markdown",
   "metadata": {},
   "source": [
    "## ROSJECT For your integrated group project\n",
    "\n",
    "This rosject contains all the initial environment and code to get started with your project. \n",
    "We have installed the code to run the simulation. To start the environment, just launch the following:\n",
    "\n",
    "roslaunch search_and_rescue search_and_rescue.launch\n",
    "\n",
    "Then launch rviz in a differrent terminal:\n",
    "\n",
    "rosrun rviz rviz\n",
    "\n",
    "You should see the robot in its environment in gazebo as well as the robot and the initial lidar data in rviz.\n",
    "\n",
    "Good luck "
   ]
  }
 ],
 "metadata": {
  "kernelspec": {
   "display_name": "Python 2",
   "language": "python",
   "name": "python2"
  },
  "language_info": {
   "codemirror_mode": {
    "name": "ipython",
    "version": 2
   },
   "file_extension": ".py",
   "mimetype": "text/x-python",
   "name": "python",
   "nbconvert_exporter": "python",
   "pygments_lexer": "ipython2",
   "version": "2.7.16"
  }
 },
 "nbformat": 4,
 "nbformat_minor": 1
}
